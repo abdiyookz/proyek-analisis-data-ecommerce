{
  "cells": [
    {
      "cell_type": "markdown",
      "metadata": {
        "id": "H9wADwK78DCz"
      },
      "source": [
        "# Proyek Analisis Data: E-commerce Public Dataset\n",
        "- **Nama:** Abdillah Dwi Cahya\n",
        "- **Email:** dwicahya.abdil69@gmail.com\n",
        "- **ID Dicoding:** dwi_cahya12"
      ]
    },
    {
      "cell_type": "markdown",
      "metadata": {
        "id": "eE0raob58DC0"
      },
      "source": [
        "## Menentukan Pertanyaan Bisnis"
      ]
    },
    {
      "cell_type": "markdown",
      "metadata": {
        "id": "GmQeQ5YF8DC0"
      },
      "source": [
        "- Bagaimana performa penjualan dan *revenue* dalam beberapa bulan terakhir?\n",
        "- Bagaimana demografi *customer* dan *seller* yang kita miliki?\n",
        "- Kategori produk apa yang paling banyak terjual dan paling sedikit terjual?\n",
        "- Kategori produk apa yang memiliki review terbaik dan terjelek?\n",
        "- Seberapa sering pembelian produk tiap state dalam beberapa tahun terakhir?\n",
        "- Berapa banyak uang yang dihabiskan tiap state dalam beberapa tahun terakhir?"
      ]
    },
    {
      "cell_type": "markdown",
      "metadata": {
        "id": "H-z4QGlO8DC1"
      },
      "source": [
        "## Import Semua Packages/Library yang Digunakan"
      ]
    },
    {
      "cell_type": "code",
      "execution_count": null,
      "metadata": {
        "id": "FVYwaObI8DC1"
      },
      "outputs": [],
      "source": [
        "import numpy as np\n",
        "import pandas as pd\n",
        "import matplotlib.pyplot as plt\n",
        "import seaborn as sns"
      ]
    },
    {
      "cell_type": "markdown",
      "metadata": {
        "id": "h_Sh51Xy8DC1"
      },
      "source": [
        "## Data Wrangling"
      ]
    },
    {
      "cell_type": "markdown",
      "metadata": {
        "id": "sXU2GBYu8DC1"
      },
      "source": [
        "### Gathering Data"
      ]
    },
    {
      "cell_type": "markdown",
      "metadata": {},
      "source": [
        "* Memuat file **customers_dataset**"
      ]
    },
    {
      "cell_type": "code",
      "execution_count": null,
      "metadata": {
        "id": "zjCBk1BI8DC1"
      },
      "outputs": [],
      "source": [
        "customers_df = pd.read_csv(\"Dataset/customers_dataset.csv\")\n",
        "customers_df.head()"
      ]
    },
    {
      "cell_type": "markdown",
      "metadata": {},
      "source": [
        "* Memuat file **sellers_dataset**"
      ]
    },
    {
      "cell_type": "code",
      "execution_count": null,
      "metadata": {},
      "outputs": [],
      "source": [
        "sellers_df = pd.read_csv(\"Dataset/sellers_dataset.csv\")\n",
        "sellers_df.head()"
      ]
    },
    {
      "cell_type": "markdown",
      "metadata": {},
      "source": [
        "* Memuat file **orders_dataset**"
      ]
    },
    {
      "cell_type": "code",
      "execution_count": null,
      "metadata": {},
      "outputs": [],
      "source": [
        "orders_df = pd.read_csv(\"Dataset/orders_dataset.csv\")\n",
        "orders_df.head()"
      ]
    },
    {
      "cell_type": "markdown",
      "metadata": {},
      "source": [
        "* Memuat file **order_items_dataset**"
      ]
    },
    {
      "cell_type": "code",
      "execution_count": null,
      "metadata": {},
      "outputs": [],
      "source": [
        "order_items_df = pd.read_csv(\"Dataset/order_items_dataset.csv\")\n",
        "order_items_df.head()"
      ]
    },
    {
      "cell_type": "markdown",
      "metadata": {},
      "source": [
        "* Memuat file **order_payments_dataset**"
      ]
    },
    {
      "cell_type": "code",
      "execution_count": null,
      "metadata": {},
      "outputs": [],
      "source": [
        "order_payments_df = pd.read_csv(\"Dataset/order_payments_dataset.csv\")\n",
        "order_payments_df.head()"
      ]
    },
    {
      "cell_type": "markdown",
      "metadata": {},
      "source": [
        "* Memuat file **order_reviews_dataset**"
      ]
    },
    {
      "cell_type": "code",
      "execution_count": null,
      "metadata": {},
      "outputs": [],
      "source": [
        "order_reviews_df = pd.read_csv(\"Dataset/order_reviews_dataset.csv\")\n",
        "order_reviews_df.head()"
      ]
    },
    {
      "cell_type": "markdown",
      "metadata": {},
      "source": [
        "* Memuat file **product_category_name_translation**"
      ]
    },
    {
      "cell_type": "code",
      "execution_count": null,
      "metadata": {},
      "outputs": [],
      "source": [
        "product_category_trans_df = pd.read_csv(\"Dataset/product_category_name_translation.csv\")\n",
        "product_category_trans_df.head()"
      ]
    },
    {
      "cell_type": "markdown",
      "metadata": {},
      "source": [
        "* Memuat file **products_dataset**"
      ]
    },
    {
      "cell_type": "code",
      "execution_count": null,
      "metadata": {},
      "outputs": [],
      "source": [
        "products_df = pd.read_csv(\"Dataset/products_dataset.csv\")\n",
        "products_df.head()"
      ]
    },
    {
      "cell_type": "markdown",
      "metadata": {
        "id": "FHSiqaZp8DC1"
      },
      "source": [
        "### Assessing Data"
      ]
    },
    {
      "cell_type": "markdown",
      "metadata": {},
      "source": [
        "Menilai data ***customers_df***"
      ]
    },
    {
      "cell_type": "markdown",
      "metadata": {},
      "source": [
        "* Periksa tipe data dan parameter statistik tiap kolom"
      ]
    },
    {
      "cell_type": "code",
      "execution_count": null,
      "metadata": {
        "id": "ax-3tEjc9Cj1"
      },
      "outputs": [],
      "source": [
        "customers_df.info()"
      ]
    },
    {
      "cell_type": "code",
      "execution_count": null,
      "metadata": {},
      "outputs": [],
      "source": [
        "customers_df.describe(include=\"all\")"
      ]
    },
    {
      "cell_type": "markdown",
      "metadata": {},
      "source": [
        "* Periksa duplikasi data"
      ]
    },
    {
      "cell_type": "code",
      "execution_count": null,
      "metadata": {},
      "outputs": [],
      "source": [
        "print(\"Jumlah duplikasi : \", customers_df.duplicated().sum())"
      ]
    },
    {
      "cell_type": "markdown",
      "metadata": {},
      "source": [
        "Menilai data ***sellers_df***"
      ]
    },
    {
      "cell_type": "markdown",
      "metadata": {},
      "source": [
        "* Periksa tipe data dan parameter statistik tiap kolom"
      ]
    },
    {
      "cell_type": "code",
      "execution_count": null,
      "metadata": {},
      "outputs": [],
      "source": [
        "sellers_df.info()"
      ]
    },
    {
      "cell_type": "code",
      "execution_count": null,
      "metadata": {},
      "outputs": [],
      "source": [
        "sellers_df.describe(include=\"all\")"
      ]
    },
    {
      "cell_type": "markdown",
      "metadata": {},
      "source": [
        "* Periksa duplikasi data"
      ]
    },
    {
      "cell_type": "code",
      "execution_count": null,
      "metadata": {},
      "outputs": [],
      "source": [
        "print(\"Jumlah duplikasi : \", sellers_df.duplicated().sum())"
      ]
    },
    {
      "cell_type": "markdown",
      "metadata": {},
      "source": [
        "Menilai data ***orders_df***"
      ]
    },
    {
      "cell_type": "markdown",
      "metadata": {},
      "source": [
        "* Periksa tipe data dan parameter statistik tiap kolom"
      ]
    },
    {
      "cell_type": "code",
      "execution_count": null,
      "metadata": {},
      "outputs": [],
      "source": [
        "orders_df.info()"
      ]
    },
    {
      "cell_type": "code",
      "execution_count": null,
      "metadata": {},
      "outputs": [],
      "source": [
        "orders_df.describe(include=\"all\")"
      ]
    },
    {
      "cell_type": "markdown",
      "metadata": {},
      "source": [
        "* Periksa *missing value*"
      ]
    },
    {
      "cell_type": "code",
      "execution_count": null,
      "metadata": {},
      "outputs": [],
      "source": [
        "orders_df.isna().sum()"
      ]
    },
    {
      "cell_type": "markdown",
      "metadata": {},
      "source": [
        "* Periksa duplikasi data"
      ]
    },
    {
      "cell_type": "code",
      "execution_count": null,
      "metadata": {},
      "outputs": [],
      "source": [
        "print(\"Jumlah duplikasi : \", orders_df.duplicated().sum())"
      ]
    },
    {
      "cell_type": "markdown",
      "metadata": {},
      "source": [
        "*Kolom **order_purchase_timestamp**, **order_approved_at**, **order_delivered_carrier_date**, **order_delivered_customer_date**, dan **order_estimated_delivery_date** seharusnya memiliki tipe data **datetime***"
      ]
    },
    {
      "cell_type": "markdown",
      "metadata": {},
      "source": [
        "Menilai data ***order_items_df***"
      ]
    },
    {
      "cell_type": "markdown",
      "metadata": {},
      "source": [
        "* Periksa tipe data dan parameter statistik tiap kolom"
      ]
    },
    {
      "cell_type": "code",
      "execution_count": null,
      "metadata": {},
      "outputs": [],
      "source": [
        "order_items_df.info()"
      ]
    },
    {
      "cell_type": "code",
      "execution_count": null,
      "metadata": {},
      "outputs": [],
      "source": [
        "order_items_df.describe(include=\"all\")"
      ]
    },
    {
      "cell_type": "markdown",
      "metadata": {},
      "source": [
        "* Periksa *missing value*"
      ]
    },
    {
      "cell_type": "code",
      "execution_count": null,
      "metadata": {},
      "outputs": [],
      "source": [
        "order_items_df.isna().sum()"
      ]
    },
    {
      "cell_type": "markdown",
      "metadata": {},
      "source": [
        "* Periksa duplikasi data *order_id*"
      ]
    },
    {
      "cell_type": "code",
      "execution_count": null,
      "metadata": {},
      "outputs": [],
      "source": [
        "print(\"Jumlah duplikasi 'order_id' : \", order_items_df.duplicated('order_id').sum())"
      ]
    },
    {
      "cell_type": "markdown",
      "metadata": {},
      "source": [
        "*Didapat data **order_id** duplikat sebanyak **13.984**. Selain itu, kolom **shipping_limit_date** seharusnya memiliki tipe data **datetime***"
      ]
    },
    {
      "cell_type": "markdown",
      "metadata": {},
      "source": [
        "Menilai data ***order_payments_df***"
      ]
    },
    {
      "cell_type": "markdown",
      "metadata": {},
      "source": [
        "* Periksa tipe data dan parameter statistik tiap kolom"
      ]
    },
    {
      "cell_type": "code",
      "execution_count": null,
      "metadata": {},
      "outputs": [],
      "source": [
        "order_payments_df.info()"
      ]
    },
    {
      "cell_type": "code",
      "execution_count": null,
      "metadata": {},
      "outputs": [],
      "source": [
        "order_payments_df.describe(include=\"all\")"
      ]
    },
    {
      "cell_type": "markdown",
      "metadata": {},
      "source": [
        "* Periksa *missing_value*"
      ]
    },
    {
      "cell_type": "code",
      "execution_count": null,
      "metadata": {},
      "outputs": [],
      "source": [
        "order_payments_df.isna().sum()"
      ]
    },
    {
      "cell_type": "markdown",
      "metadata": {},
      "source": [
        "* Periksa duplikasi data *order_id*"
      ]
    },
    {
      "cell_type": "code",
      "execution_count": null,
      "metadata": {},
      "outputs": [],
      "source": [
        "print(\"Jumlah duplikasi 'order_id' : \", order_payments_df.duplicated('order_id').sum())"
      ]
    },
    {
      "cell_type": "markdown",
      "metadata": {},
      "source": [
        "*Terdapat **4.446** data **order_id** duplikasi.*"
      ]
    },
    {
      "cell_type": "markdown",
      "metadata": {},
      "source": [
        "Menilai data ***order_reviews_df***"
      ]
    },
    {
      "cell_type": "markdown",
      "metadata": {},
      "source": [
        "* Periksa tipe data dan parameter statistik tiap kolom"
      ]
    },
    {
      "cell_type": "code",
      "execution_count": null,
      "metadata": {},
      "outputs": [],
      "source": [
        "order_reviews_df.info()"
      ]
    },
    {
      "cell_type": "code",
      "execution_count": null,
      "metadata": {},
      "outputs": [],
      "source": [
        "order_reviews_df.describe(include=\"all\")"
      ]
    },
    {
      "cell_type": "markdown",
      "metadata": {},
      "source": [
        "* Periksa *missing_value*"
      ]
    },
    {
      "cell_type": "code",
      "execution_count": null,
      "metadata": {},
      "outputs": [],
      "source": [
        "order_reviews_df.isna().sum()"
      ]
    },
    {
      "cell_type": "markdown",
      "metadata": {},
      "source": [
        "* Periksa duplikasi data *order_id* dan *review_id*"
      ]
    },
    {
      "cell_type": "code",
      "execution_count": null,
      "metadata": {},
      "outputs": [],
      "source": [
        "print(\"Jumlah duplikasi 'order_id' : \", order_reviews_df.duplicated('order_id').sum())\n",
        "print(\"Jumlah duplikasi 'review_id' : \", order_reviews_df.duplicated('review_id').sum())"
      ]
    },
    {
      "cell_type": "markdown",
      "metadata": {},
      "source": [
        "*Terdapat **551** data duplikasi pada kolom **order_id** dan **814** data duplikasi pada kolom **review_id**. Selain itu, kolom **review_creation_date** dan **review_answer_timestamp** seharusnya memiliki tipe data **datetime**.*"
      ]
    },
    {
      "cell_type": "markdown",
      "metadata": {},
      "source": [
        "Menilai data ***product_category_trans_df***"
      ]
    },
    {
      "cell_type": "markdown",
      "metadata": {},
      "source": [
        "* Periksa tipe data dan parameter statistik tiap kolom"
      ]
    },
    {
      "cell_type": "code",
      "execution_count": null,
      "metadata": {},
      "outputs": [],
      "source": [
        "product_category_trans_df.info()"
      ]
    },
    {
      "cell_type": "code",
      "execution_count": null,
      "metadata": {},
      "outputs": [],
      "source": [
        "product_category_trans_df.describe(include=\"all\")"
      ]
    },
    {
      "cell_type": "markdown",
      "metadata": {},
      "source": [
        "* Periksa *missing value*"
      ]
    },
    {
      "cell_type": "code",
      "execution_count": null,
      "metadata": {},
      "outputs": [],
      "source": [
        "product_category_trans_df.isna().sum()"
      ]
    },
    {
      "cell_type": "markdown",
      "metadata": {},
      "source": [
        "* Periksa duplikasi data"
      ]
    },
    {
      "cell_type": "code",
      "execution_count": null,
      "metadata": {},
      "outputs": [],
      "source": [
        "print(\"Jumlah duplikasi : \", product_category_trans_df.duplicated().sum())"
      ]
    },
    {
      "cell_type": "markdown",
      "metadata": {},
      "source": [
        "Menilai data ***products_df***"
      ]
    },
    {
      "cell_type": "markdown",
      "metadata": {},
      "source": [
        "* Periksa tipe data dan parameter statistik tiap kolom"
      ]
    },
    {
      "cell_type": "code",
      "execution_count": null,
      "metadata": {},
      "outputs": [],
      "source": [
        "products_df.info()"
      ]
    },
    {
      "cell_type": "code",
      "execution_count": null,
      "metadata": {},
      "outputs": [],
      "source": [
        "products_df.describe(include=\"all\")"
      ]
    },
    {
      "cell_type": "markdown",
      "metadata": {},
      "source": [
        "* Periksa *missing value*"
      ]
    },
    {
      "cell_type": "code",
      "execution_count": null,
      "metadata": {},
      "outputs": [],
      "source": [
        "products_df.isna().sum()"
      ]
    },
    {
      "cell_type": "markdown",
      "metadata": {},
      "source": [
        "* Periksa duplikasi data"
      ]
    },
    {
      "cell_type": "code",
      "execution_count": null,
      "metadata": {},
      "outputs": [],
      "source": [
        "print(\"Jumlah duplikasi : \", products_df.duplicated('product_id').sum())"
      ]
    },
    {
      "cell_type": "markdown",
      "metadata": {},
      "source": [
        "*Hampir semua kolom memiliki data missing. Kolom **product_name_lenght**, **product_description_lenght**, dan **product_photos_qty** seharusnya memiliki tipe data **integer**. Terdapat typo pada **product_name_lenght** seharusnya **product_name_length** dan **product_description_lenght** seharusnya **product_description_length***."
      ]
    },
    {
      "cell_type": "markdown",
      "metadata": {
        "id": "EhN5R4hr8DC1"
      },
      "source": [
        "### Cleaning Data"
      ]
    },
    {
      "cell_type": "markdown",
      "metadata": {},
      "source": [
        "Membersihkan data ***orders_df***"
      ]
    },
    {
      "cell_type": "markdown",
      "metadata": {},
      "source": [
        "* Mengganti tipe data menjadi *datetime*"
      ]
    },
    {
      "cell_type": "code",
      "execution_count": null,
      "metadata": {
        "id": "jVnYpprE9Evz"
      },
      "outputs": [],
      "source": [
        "datetime_columns = [\"order_purchase_timestamp\", \"order_approved_at\", \"order_delivered_carrier_date\", \"order_delivered_customer_date\", \"order_estimated_delivery_date\"]\n",
        "\n",
        "for column in datetime_columns:\n",
        "    orders_df[column] = pd.to_datetime(orders_df[column])\n",
        "\n",
        "# Periksa kembali tipe data\n",
        "orders_df.info()"
      ]
    },
    {
      "cell_type": "markdown",
      "metadata": {},
      "source": [
        "Membersihkan data ***order_items_df***"
      ]
    },
    {
      "cell_type": "markdown",
      "metadata": {},
      "source": [
        "* Menghapus duplikasi data"
      ]
    },
    {
      "cell_type": "code",
      "execution_count": null,
      "metadata": {},
      "outputs": [],
      "source": [
        "order_items_df.drop_duplicates(subset='order_id', keep='last', inplace=True)\n",
        "\n",
        "# Periksa kembali duplikasi data\n",
        "print(\"Jumlah duplikasi : \", order_items_df.duplicated('order_id').sum())"
      ]
    },
    {
      "cell_type": "markdown",
      "metadata": {},
      "source": [
        "* Mengubah tipe data menjadi *datetime*"
      ]
    },
    {
      "cell_type": "code",
      "execution_count": null,
      "metadata": {},
      "outputs": [],
      "source": [
        "datetime_columns = [\"shipping_limit_date\"]\n",
        "\n",
        "for column in datetime_columns:\n",
        "    order_items_df[column] = pd.to_datetime(order_items_df[column])\n",
        "\n",
        "# Periksa kembali\n",
        "order_items_df.info()"
      ]
    },
    {
      "cell_type": "markdown",
      "metadata": {},
      "source": [
        "Membersihkan data ***order_payments_df***"
      ]
    },
    {
      "cell_type": "markdown",
      "metadata": {},
      "source": [
        "* Menghapus duplikasi data"
      ]
    },
    {
      "cell_type": "code",
      "execution_count": null,
      "metadata": {},
      "outputs": [],
      "source": [
        "order_payments_df.drop_duplicates(subset='order_id', inplace=True)\n",
        "\n",
        "# Periksa kembali duplikasi data\n",
        "print(\"Jumlah duplikasi : \", order_payments_df.duplicated('order_id').sum())"
      ]
    },
    {
      "cell_type": "markdown",
      "metadata": {},
      "source": [
        "Membersihkan data ***order_reviews_df***"
      ]
    },
    {
      "cell_type": "markdown",
      "metadata": {},
      "source": [
        "* Menghapus duplikasi data"
      ]
    },
    {
      "cell_type": "code",
      "execution_count": null,
      "metadata": {},
      "outputs": [],
      "source": [
        "order_reviews_df.drop_duplicates(subset='order_id', inplace=True)\n",
        "order_reviews_df.drop_duplicates(subset='review_id', inplace=True)\n",
        "\n",
        "# Periksa kembali\n",
        "print(\"Jumlah duplikasi 'order_id' : \", order_reviews_df.duplicated(\"order_id\").sum())\n",
        "print(\"Jumlah duplikasi 'review_id' : \", order_reviews_df.duplicated(\"review_id\").sum())"
      ]
    },
    {
      "cell_type": "markdown",
      "metadata": {},
      "source": [
        "* Mengubah tipe data menjadi *datetime*"
      ]
    },
    {
      "cell_type": "code",
      "execution_count": null,
      "metadata": {},
      "outputs": [],
      "source": [
        "datetime_columns = [\"review_creation_date\", \"review_answer_timestamp\"]\n",
        "\n",
        "for column in datetime_columns:\n",
        "    order_reviews_df[column] = pd.to_datetime(order_reviews_df[column])\n",
        "\n",
        "# Periksa kembali\n",
        "order_reviews_df.info()"
      ]
    },
    {
      "cell_type": "markdown",
      "metadata": {},
      "source": [
        "Membersihkan data ***products_df***"
      ]
    },
    {
      "cell_type": "markdown",
      "metadata": {},
      "source": [
        "* Mengganti nama kolom"
      ]
    },
    {
      "cell_type": "code",
      "execution_count": null,
      "metadata": {},
      "outputs": [],
      "source": [
        "products_df.rename(columns={\n",
        "    \"product_name_lenght\" : \"product_name_length\",\n",
        "    \"product_description_lenght\" : \"product_description_length\"\n",
        "}, inplace=True)"
      ]
    },
    {
      "cell_type": "markdown",
      "metadata": {},
      "source": [
        "* Mengisi *missing value*"
      ]
    },
    {
      "cell_type": "markdown",
      "metadata": {},
      "source": [
        "***Imputation** missing value* pada kolom **product_weight_g**, **product_length_cm**, **product_height_cm**, dan **product_width_cm** dimana mengisi data yang *missing* dengan mean masing-masing kolom."
      ]
    },
    {
      "cell_type": "code",
      "execution_count": null,
      "metadata": {},
      "outputs": [],
      "source": [
        "imputation_columns = [\"product_weight_g\", \"product_length_cm\", \"product_height_cm\", \"product_width_cm\"]\n",
        "\n",
        "for column in imputation_columns:\n",
        "    products_df[column].fillna(value=products_df[column].mean(), inplace=True)\n",
        "\n",
        "# Periksa kembali data missing\n",
        "products_df.isna().sum()"
      ]
    },
    {
      "cell_type": "markdown",
      "metadata": {},
      "source": [
        "***Imputation** missing value pada kolom **product_name_length**, **product_description_length**, dan **product_photos_qty** dengan nilai **0**.*"
      ]
    },
    {
      "cell_type": "code",
      "execution_count": null,
      "metadata": {},
      "outputs": [],
      "source": [
        "imputation_columns = [\"product_name_length\", \"product_description_length\", \"product_photos_qty\"]\n",
        "\n",
        "for column in imputation_columns:\n",
        "    products_df[column].fillna(value=0, inplace=True)\n",
        "\n",
        "# Periksa kembali data missing\n",
        "products_df.isna().sum()"
      ]
    },
    {
      "cell_type": "markdown",
      "metadata": {},
      "source": [
        "***Interpolate** missing value* pada kolom **product_category_name** dengan metode **'ffill'**"
      ]
    },
    {
      "cell_type": "code",
      "execution_count": null,
      "metadata": {},
      "outputs": [],
      "source": [
        "products_df['product_category_name'].interpolate(method='ffill', inplace=True)\n",
        "\n",
        "# Periksa kembali\n",
        "products_df.isna().sum()"
      ]
    },
    {
      "cell_type": "markdown",
      "metadata": {},
      "source": [
        "* Mengganti tipe data menjadi *integer*"
      ]
    },
    {
      "cell_type": "code",
      "execution_count": null,
      "metadata": {},
      "outputs": [],
      "source": [
        "integer_column = [\"product_name_length\", \"product_description_length\", \"product_photos_qty\"]\n",
        "\n",
        "for column in integer_column:\n",
        "    products_df[column] = products_df[column].apply(np.int64)\n",
        "\n",
        "# Periksa kembali\n",
        "products_df.info()"
      ]
    },
    {
      "cell_type": "markdown",
      "metadata": {
        "id": "gp-Y6wU38DC1"
      },
      "source": [
        "## Exploratory Data Analysis (EDA)"
      ]
    },
    {
      "cell_type": "markdown",
      "metadata": {
        "id": "MW7WF2kr8DC1"
      },
      "source": [
        "### Explore ***customers_df*** dan ***orders_df***"
      ]
    },
    {
      "cell_type": "markdown",
      "metadata": {},
      "source": [
        "* Menggabungkan DataFrame ***customers_df*** dan ***orders_df*** menjadi ***order_customer_df***"
      ]
    },
    {
      "cell_type": "code",
      "execution_count": null,
      "metadata": {
        "id": "e9CQCZjk8DC2"
      },
      "outputs": [],
      "source": [
        "order_customer_df = pd.merge(\n",
        "    left=customers_df,\n",
        "    right=orders_df,\n",
        "    how='right',\n",
        "    left_on=\"customer_id\",\n",
        "    right_on=\"customer_id\"\n",
        ")\n",
        "order_customer_df.head()"
      ]
    },
    {
      "cell_type": "code",
      "execution_count": null,
      "metadata": {},
      "outputs": [],
      "source": [
        "# Memeriksa parameter statistik\n",
        "order_customer_df.describe(include=\"all\")"
      ]
    },
    {
      "cell_type": "markdown",
      "metadata": {},
      "source": [
        "* Menghitung banyaknya customer tiap *city* dan *state*"
      ]
    },
    {
      "cell_type": "code",
      "execution_count": null,
      "metadata": {},
      "outputs": [],
      "source": [
        "order_customer_df.groupby(by=\"customer_city\").customer_id.nunique().sort_values(ascending=False)"
      ]
    },
    {
      "cell_type": "code",
      "execution_count": null,
      "metadata": {},
      "outputs": [],
      "source": [
        "order_customer_df.groupby(by=\"customer_state\").customer_id.nunique().sort_values(ascending=False)"
      ]
    },
    {
      "cell_type": "markdown",
      "metadata": {},
      "source": [
        "*Diperoleh jumlah customer terbanyak berada di city **sao paulo** sebanyak **15.540** customer dan state **SP** sebanyak **41.746** customer*"
      ]
    },
    {
      "cell_type": "markdown",
      "metadata": {},
      "source": [
        "* Menghitung ***delivery_time*** dengan **selisih** antara **order_purchased_timestamp** dan **order_delivered_customer_date**."
      ]
    },
    {
      "cell_type": "code",
      "execution_count": null,
      "metadata": {},
      "outputs": [],
      "source": [
        "delivery_time = (order_customer_df[\"order_delivered_customer_date\"] - order_customer_df[\"order_purchase_timestamp\"]).apply(lambda x : x.total_seconds())\n",
        "order_customer_df[\"delivery_time\"] = round(delivery_time/86400)\n",
        "\n",
        "# Periksa parameter statistik\n",
        "order_customer_df.describe(include='all')"
      ]
    },
    {
      "cell_type": "markdown",
      "metadata": {},
      "source": [
        "*Didapat rata-rata pengiriman adalah **12-13 hari** dengan **minimumnya 1 hari** dan **maksimumnya 210 hari***"
      ]
    },
    {
      "cell_type": "markdown",
      "metadata": {},
      "source": [
        "* Memeriksa kolom **order_status**"
      ]
    },
    {
      "cell_type": "code",
      "execution_count": null,
      "metadata": {},
      "outputs": [],
      "source": [
        "order_customer_df.groupby(by=\"order_status\").order_id.nunique().sort_values(ascending=False)"
      ]
    },
    {
      "cell_type": "markdown",
      "metadata": {},
      "source": [
        "*Terlihat terdapat **625 orderan** yang berstatus **canceled**. Data ini nantinya tidak akan digunakan ketika menghitung performa penjualan dan revenue*."
      ]
    },
    {
      "cell_type": "markdown",
      "metadata": {},
      "source": [
        "### Explore ***sellers_df***"
      ]
    },
    {
      "cell_type": "markdown",
      "metadata": {},
      "source": [
        "* Mengitung banyak seller tiap *city* dan *state*"
      ]
    },
    {
      "cell_type": "code",
      "execution_count": null,
      "metadata": {},
      "outputs": [],
      "source": [
        "sellers_df.groupby(by=\"seller_city\").seller_id.nunique().sort_values(ascending=False)"
      ]
    },
    {
      "cell_type": "code",
      "execution_count": null,
      "metadata": {},
      "outputs": [],
      "source": [
        "sellers_df.groupby(by=\"seller_state\").seller_id.nunique().sort_values(ascending=False)"
      ]
    },
    {
      "cell_type": "markdown",
      "metadata": {},
      "source": [
        "*Diperoleh jumlah seller terbanyak berada di city **sao paulo** sebanyak **694** seller dan state **SP** sebanyak **1849** seller*"
      ]
    },
    {
      "cell_type": "markdown",
      "metadata": {},
      "source": [
        "### Explore ***product_df***"
      ]
    },
    {
      "cell_type": "markdown",
      "metadata": {},
      "source": [
        "* Menggabungkan DataFrame ***product_category_trans_df*** dan ***products_df*** menjadi ***product_category_df***"
      ]
    },
    {
      "cell_type": "code",
      "execution_count": null,
      "metadata": {},
      "outputs": [],
      "source": [
        "product_category_df = pd.merge(\n",
        "    left=product_category_trans_df,\n",
        "    right=products_df,\n",
        "    how='right',\n",
        "    left_on=\"product_category_name\",\n",
        "    right_on=\"product_category_name\",\n",
        ")\n",
        "product_category_df.head()"
      ]
    },
    {
      "cell_type": "code",
      "execution_count": null,
      "metadata": {},
      "outputs": [],
      "source": [
        "# Periksa missing value\n",
        "product_category_df.isna().sum()"
      ]
    },
    {
      "cell_type": "markdown",
      "metadata": {},
      "source": [
        "Terdapat data *missing* pada **product_category_name_english**. Sehingga, data yang kosong akan diisi dengan **product_category_name** di baris yang sama."
      ]
    },
    {
      "cell_type": "code",
      "execution_count": null,
      "metadata": {},
      "outputs": [],
      "source": [
        "product_category_df[\"product_category_name_english\"].fillna(value=product_category_df[\"product_category_name\"], inplace=True)\n",
        "\n",
        "# Periksa kembali\n",
        "product_category_df.isna().sum()"
      ]
    },
    {
      "cell_type": "markdown",
      "metadata": {},
      "source": [
        "* Menghapus kolom **product_category_name** dan *rename* **product_category_name_english** menjadi **product_category_name**"
      ]
    },
    {
      "cell_type": "code",
      "execution_count": null,
      "metadata": {},
      "outputs": [],
      "source": [
        "# Menghapus kolom 'product_category_name'\n",
        "product_category_df.drop([\"product_category_name\"], axis=1, inplace=True)"
      ]
    },
    {
      "cell_type": "code",
      "execution_count": null,
      "metadata": {},
      "outputs": [],
      "source": [
        "# Rename kolom 'product_category_name_english' menjadi 'product_category_name'\n",
        "product_category_df.rename(columns={\n",
        "    \"product_category_name_english\" : \"product_category_name\"\n",
        "}, inplace=True)\n",
        "product_category_df.head()"
      ]
    },
    {
      "cell_type": "markdown",
      "metadata": {},
      "source": [
        "### Explore ***order_items_df***, ***order_payments_df***, dan ***order_reviews_df***"
      ]
    },
    {
      "cell_type": "markdown",
      "metadata": {},
      "source": [
        "* Menggabungkan DataFrame ketiganya menjadi ***all_orders_df***"
      ]
    },
    {
      "cell_type": "code",
      "execution_count": null,
      "metadata": {},
      "outputs": [],
      "source": [
        "all_orders_df = order_items_df.merge(order_payments_df, how='left', on=\"order_id\").merge(order_reviews_df, how='left', on=\"order_id\")\n",
        "\n",
        "# Rename nama kolom\n",
        "all_orders_df.rename(columns={\n",
        "    \"order_item_id\" : \"quantity\",\n",
        "    \"payment_value\" : \"total_price\"\n",
        "}, inplace=True)\n",
        "\n",
        "all_orders_df.head()"
      ]
    },
    {
      "cell_type": "code",
      "execution_count": null,
      "metadata": {},
      "outputs": [],
      "source": [
        "# Periksa parameter statistik\n",
        "all_orders_df.describe(include=\"all\")"
      ]
    },
    {
      "cell_type": "code",
      "execution_count": null,
      "metadata": {},
      "outputs": [],
      "source": [
        "# Periksa missing value\n",
        "all_orders_df.isna().sum()"
      ]
    },
    {
      "cell_type": "markdown",
      "metadata": {},
      "source": [
        "Terdapat *missing value* pada **payment_sequential**, **payment_type**, **payment_installments**, dan **total_price**."
      ]
    },
    {
      "cell_type": "markdown",
      "metadata": {},
      "source": [
        "Pada **payment_sequential**, **payment_installments**, dan **total_price**, data missing diisi dengan mean masing-masing kolom. Sedangkan **payment_type** akan diisi dengan data yang sering muncul"
      ]
    },
    {
      "cell_type": "code",
      "execution_count": null,
      "metadata": {},
      "outputs": [],
      "source": [
        "all_orders_df[\"payment_sequential\"].fillna(value=all_orders_df[\"payment_sequential\"].mean(), inplace=True)\n",
        "all_orders_df[\"payment_type\"].fillna(value=\"credit_card\", inplace=True)\n",
        "all_orders_df[\"payment_installments\"].fillna(value=all_orders_df[\"payment_installments\"].mean(), inplace=True)\n",
        "all_orders_df[\"total_price\"].fillna(value=all_orders_df[\"total_price\"].mean(), inplace=True)\n",
        "\n",
        "# Periksa kembali\n",
        "all_orders_df.isna().sum()"
      ]
    },
    {
      "cell_type": "markdown",
      "metadata": {},
      "source": [
        "* Menggabungkan DataFrame ***product_category_df***, ***sellers_df***, dan ***all_orders_df*** menjadi ***product_descriptions_df***"
      ]
    },
    {
      "cell_type": "code",
      "execution_count": null,
      "metadata": {},
      "outputs": [],
      "source": [
        "product_descriptions_df = pd.merge(\n",
        "    left=product_category_df,\n",
        "    right=pd.merge(\n",
        "        left=sellers_df,\n",
        "        right=all_orders_df,\n",
        "        how='right',\n",
        "        left_on=\"seller_id\",\n",
        "        right_on=\"seller_id\"\n",
        "    ),\n",
        "    how='right',\n",
        "    left_on=\"product_id\",\n",
        "    right_on=\"product_id\"\n",
        ")\n",
        "\n",
        "product_descriptions_df.head()"
      ]
    },
    {
      "cell_type": "code",
      "execution_count": null,
      "metadata": {},
      "outputs": [],
      "source": [
        "# Periksa parameter statistik\n",
        "product_descriptions_df.describe(include=\"all\")"
      ]
    },
    {
      "cell_type": "markdown",
      "metadata": {},
      "source": [
        "* Memeriksa kategori produk yang mendapatkan review terbagus dan terjelek"
      ]
    },
    {
      "cell_type": "code",
      "execution_count": null,
      "metadata": {},
      "outputs": [],
      "source": [
        "product_descriptions_df.groupby(by=\"product_category_name\").agg({\n",
        "    \"review_score\" : \"mean\"\n",
        "}).sort_values(by=\"review_score\", ascending=False)"
      ]
    },
    {
      "cell_type": "markdown",
      "metadata": {},
      "source": [
        "*Terlihat bahwa kategori produk dengan **review terbagus** adalah **cds_dvds_musicals** dan **review terjelek** adalah **security_and_services***"
      ]
    },
    {
      "cell_type": "markdown",
      "metadata": {},
      "source": [
        "### Explore ***all_df***"
      ]
    },
    {
      "cell_type": "markdown",
      "metadata": {},
      "source": [
        "* Menggabungkan semua DataFrames menjadi satu dalam DataFrames ***all_df***"
      ]
    },
    {
      "cell_type": "code",
      "execution_count": null,
      "metadata": {},
      "outputs": [],
      "source": [
        "all_df = pd.merge(\n",
        "    left = order_customer_df,\n",
        "    right = product_descriptions_df,\n",
        "    how = 'left',\n",
        "    left_on=\"order_id\",\n",
        "    right_on=\"order_id\"\n",
        ")\n",
        "\n",
        "all_df.head()"
      ]
    },
    {
      "cell_type": "code",
      "execution_count": null,
      "metadata": {},
      "outputs": [],
      "source": [
        "# Memeriksa parameter statistik\n",
        "all_df.describe(include=\"all\")"
      ]
    },
    {
      "cell_type": "code",
      "execution_count": null,
      "metadata": {},
      "outputs": [],
      "source": [
        "# Memeriksa missing value\n",
        "all_df.isna().sum()"
      ]
    },
    {
      "cell_type": "markdown",
      "metadata": {},
      "source": [
        "Terdapat data *missing* pada beberapa kolom. Hal ini kemungkinan mengartikan bahwa **stok produk kosong**. Selanjutnya akan diperiksa 'order_status' yang tidak memiliki 'product_id'"
      ]
    },
    {
      "cell_type": "code",
      "execution_count": null,
      "metadata": {},
      "outputs": [],
      "source": [
        "all_df[all_df[\"product_id\"].isna()].groupby(by=\"order_status\").order_id.nunique().sort_values(ascending=False)"
      ]
    },
    {
      "cell_type": "markdown",
      "metadata": {},
      "source": [
        "Terdapat beberapa 'order_status' yang tidak memiliki 'product_id', dengan didominasi status **unavailable** sebanyak **603 orderan**. Data analis mengansumsikan hal ini dimungkinkan karena **kesalahan sistem** yang menyebabkan **order dapat dibuat sementara stok produk habis**."
      ]
    },
    {
      "cell_type": "markdown",
      "metadata": {},
      "source": [
        "* Memeriksa kategori produk yang terjual paling banyak dan paling sedikit"
      ]
    },
    {
      "cell_type": "code",
      "execution_count": null,
      "metadata": {},
      "outputs": [],
      "source": [
        "all_df.query(\"order_status != 'canceled'\").groupby(by=\"product_category_name\").agg({\n",
        "    \"order_id\" : \"nunique\",\n",
        "    \"quantity\" : \"sum\",\n",
        "    \"total_price\" : \"sum\"\n",
        "}).sort_values(by=\"quantity\", ascending=False)"
      ]
    },
    {
      "cell_type": "markdown",
      "metadata": {},
      "source": [
        "*Diperoleh kategori produk dengan **penjualan tertinggi** adalah **bed_bath_table** dengan terjual **11.247 produk** dan total revenue **1.238.802**. Sedangkan kategori produk dengan **penjualan terendah** adalah **security_and_services** dengan terjual **2 produk** dan total revenue **324***."
      ]
    },
    {
      "cell_type": "markdown",
      "metadata": {
        "id": "zsyZjqak8DC2"
      },
      "source": [
        "## Visualization & Explanatory Analysis"
      ]
    },
    {
      "cell_type": "markdown",
      "metadata": {
        "id": "HZxOiQ6n8DC2"
      },
      "source": [
        "### Pertanyaan 1: Bagaimana performa penjualan dan *revenue* dalam beberapa bulan terakhir?"
      ]
    },
    {
      "cell_type": "markdown",
      "metadata": {},
      "source": [
        "* Membuat DataFrame untuk penjualan per bulan"
      ]
    },
    {
      "cell_type": "code",
      "execution_count": null,
      "metadata": {
        "id": "1swJUdAD8DC2"
      },
      "outputs": [],
      "source": [
        "monthly_orders_df = all_df.query(\"order_status != 'canceled'\").resample(rule='M', on=\"order_purchase_timestamp\").agg({\n",
        "    \"order_id\" : \"nunique\",\n",
        "    \"total_price\" : \"sum\"\n",
        "})\n",
        "monthly_orders_df.index = monthly_orders_df.index.strftime('%Y-%m')\n",
        "monthly_orders_df = monthly_orders_df.reset_index()\n",
        "monthly_orders_df.rename(columns={\n",
        "    \"order_id\" : \"order_count\",\n",
        "    \"total_price\" : \"revenue\"\n",
        "}, inplace=True)\n",
        "monthly_orders_df.sort_values(\"order_purchase_timestamp\", ascending=False)[:13]"
      ]
    },
    {
      "cell_type": "markdown",
      "metadata": {},
      "source": [
        "* Visualisasi data dengan **line chart**"
      ]
    },
    {
      "cell_type": "markdown",
      "metadata": {},
      "source": [
        "Data yang akan divisualisasikan adalah penjualan pada **satu tahun terakhir (September 2017 - Agustus 2018)**."
      ]
    },
    {
      "cell_type": "code",
      "execution_count": null,
      "metadata": {},
      "outputs": [],
      "source": [
        "# Visualisasi data performa penjualan\n",
        "plt.figure(figsize=(10,5))\n",
        "plt.plot(\n",
        "    monthly_orders_df[\"order_purchase_timestamp\"][-13:-1],\n",
        "    monthly_orders_df[\"order_count\"][-13:-1],\n",
        "    marker='o',\n",
        "    linewidth=2,\n",
        "    color=\"#0277BD\"\n",
        ")\n",
        "plt.title(\"Number of Orders per Month in the Past Year\", fontsize=20)\n",
        "plt.xticks(fontsize=9)\n",
        "plt.yticks(fontsize=10)\n",
        "plt.show()"
      ]
    },
    {
      "cell_type": "markdown",
      "metadata": {},
      "source": [
        "*Terlihat bahwa **puncak performa penjualan** berada di bulan **November 2017**. Selain itu, **performa mengalami penurunan** pada bulan **Desember 2017**, **Februari 2018**, **April 2018** dan **Juni 2018***"
      ]
    },
    {
      "cell_type": "code",
      "execution_count": null,
      "metadata": {},
      "outputs": [],
      "source": [
        "# Visualisasi data revenue penjualan\n",
        "plt.figure(figsize=(10,5))\n",
        "plt.plot(\n",
        "    monthly_orders_df[\"order_purchase_timestamp\"][-13:-1],\n",
        "    monthly_orders_df[\"revenue\"][-13:-1],\n",
        "    marker='o',\n",
        "    linewidth=2,\n",
        "    color=\"#0277BD\"\n",
        ")\n",
        "plt.title(\"Revenue per Month in the Past Year (BRL)\", fontsize=20)\n",
        "plt.xticks(fontsize=9)\n",
        "plt.ylabel(\"(in Million)\")\n",
        "plt.yticks(fontsize=10)\n",
        "plt.show()"
      ]
    },
    {
      "cell_type": "markdown",
      "metadata": {},
      "source": [
        "*Diperoleh bahwa **puncak revenue** berada di bulan **November 2017**, serta penurunan revenue pada bulan **Desember 2017**, **Februari 2018**, **Juni 2018**, dan **Agustus 2018***."
      ]
    },
    {
      "cell_type": "markdown",
      "metadata": {
        "id": "DgHI7CiU8DC2"
      },
      "source": [
        "### Pertanyaan 2: Bagaimana demografi *customer* dan *seller* yang kita miliki?"
      ]
    },
    {
      "cell_type": "markdown",
      "metadata": {},
      "source": [
        "Visualisasi data yang digunakan adalah **Bar Chart**"
      ]
    },
    {
      "cell_type": "markdown",
      "metadata": {},
      "source": [
        "#### Demografi Customer"
      ]
    },
    {
      "cell_type": "markdown",
      "metadata": {},
      "source": [
        "* Berdasarkan **City**"
      ]
    },
    {
      "cell_type": "markdown",
      "metadata": {},
      "source": [
        "Data yang divisualisasikan adalah **10 besar customer terbanyak berdasarkan *city***"
      ]
    },
    {
      "cell_type": "code",
      "execution_count": null,
      "metadata": {},
      "outputs": [],
      "source": [
        "# DataFrame customer_city\n",
        "customer_city_df = all_df.groupby(\"customer_city\").customer_id.nunique().reset_index()\n",
        "customer_city_df.rename(columns={\n",
        "    \"customer_id\" : \"customer_count\"\n",
        "}, inplace=True)\n",
        "\n",
        "# DataFrame 10 besar\n",
        "top10_customer_city_df = customer_city_df.sort_values(by=\"customer_count\", ascending=False).head(10)\n",
        "\n",
        "# Visualisasi data\n",
        "colors = [\"#0277BD\", \"#ACB7BD\", \"#ACB7BD\", \"#ACB7BD\", \"#ACB7BD\", \"#ACB7BD\", \"#ACB7BD\", \"#ACB7BD\", \"#ACB7BD\", \"#ACB7BD\"]\n",
        "\n",
        "plt.figure(figsize=(10,5))\n",
        "sns.barplot(\n",
        "    x = \"customer_count\",\n",
        "    y = \"customer_city\",\n",
        "    data = top10_customer_city_df,\n",
        "    palette=colors\n",
        ")\n",
        "plt.title(\"Top 10 with the Most Customers by City\", loc=\"center\", fontsize=15)\n",
        "plt.xlabel(None)\n",
        "plt.ylabel(None)\n",
        "plt.tick_params(axis='y', labelsize=12)\n",
        "plt.show()"
      ]
    },
    {
      "cell_type": "markdown",
      "metadata": {},
      "source": [
        "* Berdasarkan **State**"
      ]
    },
    {
      "cell_type": "markdown",
      "metadata": {},
      "source": [
        "Data yang divisualisasikan adalah **10 besar customer terbanyak berdasarkan *state***"
      ]
    },
    {
      "cell_type": "code",
      "execution_count": null,
      "metadata": {
        "id": "Go0lCsvO8DC2"
      },
      "outputs": [],
      "source": [
        "# DataFrame customer_state\n",
        "customer_state_df = all_df.groupby(\"customer_state\").customer_id.nunique().reset_index()\n",
        "customer_state_df.rename(columns={\n",
        "    \"customer_id\" : \"customer_count\"\n",
        "}, inplace=True)\n",
        "\n",
        "# DataFrame 10 besar\n",
        "top10_customer_state_df = customer_state_df.sort_values(by=\"customer_count\", ascending=False).head(10)\n",
        "\n",
        "# Visualisasi data\n",
        "plt.figure(figsize=(10,5))\n",
        "sns.barplot(\n",
        "    x = \"customer_count\",\n",
        "    y = \"customer_state\",\n",
        "    data = top10_customer_state_df,\n",
        "    palette=colors\n",
        ")\n",
        "plt.title(\"Top 10 with the Most Customers by State\", loc=\"center\", fontsize=15)\n",
        "plt.xlabel(None)\n",
        "plt.ylabel(None)\n",
        "plt.tick_params(axis='y', labelsize=12)\n",
        "plt.show()"
      ]
    },
    {
      "cell_type": "markdown",
      "metadata": {},
      "source": [
        "*Didapat bahwa customer terbanyak berada di **Kota Sao Paulo** dan **State SP***."
      ]
    },
    {
      "cell_type": "markdown",
      "metadata": {},
      "source": [
        "#### Demografi Seller"
      ]
    },
    {
      "cell_type": "markdown",
      "metadata": {},
      "source": [
        "* Berdasarkan **City**"
      ]
    },
    {
      "cell_type": "markdown",
      "metadata": {},
      "source": [
        "Data yang divisualisasikan adalah **10 besar seller terbanyak berdasarkan *city***"
      ]
    },
    {
      "cell_type": "code",
      "execution_count": null,
      "metadata": {},
      "outputs": [],
      "source": [
        "# DataFrame seller_city\n",
        "seller_city_df = all_df.groupby(\"seller_city\").seller_id.nunique().reset_index()\n",
        "seller_city_df.rename(columns={\n",
        "    \"seller_id\" : \"seller_count\"\n",
        "}, inplace=True)\n",
        "\n",
        "# DataFrame 10 besar\n",
        "top10_seller_city_df = seller_city_df.sort_values(by=\"seller_count\", ascending=False).head(10)\n",
        "\n",
        "# Visualisasi data\n",
        "plt.figure(figsize=(10,5))\n",
        "sns.barplot(\n",
        "    x = \"seller_count\",\n",
        "    y = \"seller_city\",\n",
        "    data = top10_seller_city_df,\n",
        "    palette=colors\n",
        ")\n",
        "plt.title(\"Top 10 with the Most Sellers by City\", loc=\"center\", fontsize=15)\n",
        "plt.xlabel(None)\n",
        "plt.ylabel(None)\n",
        "plt.tick_params(axis='y', labelsize=12)\n",
        "plt.show()"
      ]
    },
    {
      "cell_type": "markdown",
      "metadata": {},
      "source": [
        "* Berdasarkan **State**"
      ]
    },
    {
      "cell_type": "markdown",
      "metadata": {},
      "source": [
        "Data yang divisualisasikan adalah **10 besar seller terbanyak berdasarkan state**."
      ]
    },
    {
      "cell_type": "code",
      "execution_count": null,
      "metadata": {},
      "outputs": [],
      "source": [
        "# DataFrame seller_state\n",
        "seller_state_df = all_df.groupby(\"seller_state\").seller_id.nunique().reset_index()\n",
        "seller_state_df.rename(columns={\n",
        "    \"seller_id\" : \"seller_count\"\n",
        "}, inplace=True)\n",
        "\n",
        "# DataFrame 10 besar\n",
        "top10_seller_state_df = seller_state_df.sort_values(by=\"seller_count\", ascending=False).head(10)\n",
        "\n",
        "# Visualisasi data\n",
        "plt.figure(figsize=(10,5))\n",
        "sns.barplot(\n",
        "    x = \"seller_count\",\n",
        "    y = \"seller_state\",\n",
        "    data = top10_seller_state_df,\n",
        "    palette=colors\n",
        ")\n",
        "plt.title(\"Top 10 with the Most sellers by State\", loc=\"center\", fontsize=15)\n",
        "plt.xlabel(None)\n",
        "plt.ylabel(None)\n",
        "plt.tick_params(axis='y', labelsize=12)\n",
        "plt.show()"
      ]
    },
    {
      "cell_type": "markdown",
      "metadata": {},
      "source": [
        "*Sama seperti customer, diperoleh bahwa **Kota** dan **State** dengan **seller terbanyak** adalah **Sao Paulo** dan **SP***."
      ]
    },
    {
      "cell_type": "markdown",
      "metadata": {},
      "source": [
        "### Pertanyaan 3: Kategori produk apa yang paling banyak terjual dan paling sedikit terjual?"
      ]
    },
    {
      "cell_type": "markdown",
      "metadata": {},
      "source": [
        "* Membuat DataFrames kategori produk berdasarkan jumlah penjualan"
      ]
    },
    {
      "cell_type": "code",
      "execution_count": null,
      "metadata": {},
      "outputs": [],
      "source": [
        "sum_order_items_df = all_df.query(\"order_status != 'canceled'\").groupby(by=\"product_category_name\").quantity.sum().sort_values(ascending=False).reset_index()\n",
        "sum_order_items_df"
      ]
    },
    {
      "cell_type": "markdown",
      "metadata": {},
      "source": [
        "* Visuaisasi data dalam bentuk **Bar Chart**"
      ]
    },
    {
      "cell_type": "code",
      "execution_count": null,
      "metadata": {},
      "outputs": [],
      "source": [
        "fig, ax = plt.subplots(nrows=1, ncols=2, figsize=(24, 6))\n",
        "colors = [\"#0277BD\", \"#ACB7BD\", \"#ACB7BD\", \"#ACB7BD\", \"#ACB7BD\"]\n",
        "colors_ = [\"#FF2E1F\", \"#ACB7BD\", \"#ACB7BD\", \"#ACB7BD\", \"#ACB7BD\"]\n",
        "\n",
        "sns.barplot(\n",
        "    x = \"quantity\",\n",
        "    y = \"product_category_name\",\n",
        "    data = sum_order_items_df.head(5),\n",
        "    palette = colors,\n",
        "    ax = ax[0]\n",
        ")\n",
        "ax[0].set_xlabel(None)\n",
        "ax[0].set_ylabel(None)\n",
        "ax[0].set_title(\"Best Performing Product Category\", loc=\"center\", fontsize=15)\n",
        "ax[0].tick_params(axis ='y', labelsize=12)\n",
        "\n",
        "sns.barplot(\n",
        "    x = \"quantity\",\n",
        "    y = \"product_category_name\",\n",
        "    data = sum_order_items_df.sort_values(by=\"quantity\", ascending=True).head(5),\n",
        "    palette = colors_,\n",
        "    ax = ax[1]\n",
        ")\n",
        "ax[1].set_xlabel(None)\n",
        "ax[1].set_ylabel(None)\n",
        "ax[1].invert_xaxis()\n",
        "ax[1].yaxis.set_label_position(\"right\")\n",
        "ax[1].yaxis.tick_right()\n",
        "ax[1].set_title(\"Worst Performing Product Category\", loc=\"center\", fontsize=15)\n",
        "ax[1].tick_params(axis ='y', labelsize=12)\n",
        "\n",
        "plt.suptitle(\"Best and Worst Performing Product Category by Number of Sales\", fontsize=20)\n",
        "plt.show()"
      ]
    },
    {
      "cell_type": "markdown",
      "metadata": {},
      "source": [
        "*Diperoleh bahwa kategori produk dengan penjualan tertinggi adalah **bed_bath_table** dan penjualan terendah adalah **security_and_services***."
      ]
    },
    {
      "cell_type": "markdown",
      "metadata": {},
      "source": [
        "### Pertanyaan 4: Kategori produk apa yang memiliki review terbaik dan terjelek?"
      ]
    },
    {
      "cell_type": "markdown",
      "metadata": {},
      "source": [
        "* Membuat DataFrame kategori produk berdasarkan review"
      ]
    },
    {
      "cell_type": "code",
      "execution_count": null,
      "metadata": {},
      "outputs": [],
      "source": [
        "all_review_df = all_df.query(\"order_status != 'canceled'\").groupby(by=\"product_category_name\").agg({\n",
        "    \"review_score\" : \"mean\"\n",
        "}).sort_values(by=\"review_score\", ascending=False)\n",
        "all_review_df.rename(columns={\n",
        "    \"review_score\" : \"review_average\"\n",
        "}, inplace=True)\n",
        "all_review_df"
      ]
    },
    {
      "cell_type": "markdown",
      "metadata": {},
      "source": [
        "* Visualisasi data dalam bentuk **Bar Chart**"
      ]
    },
    {
      "cell_type": "code",
      "execution_count": null,
      "metadata": {},
      "outputs": [],
      "source": [
        "fig, ax = plt.subplots(nrows=1, ncols=2, figsize=(24, 6))\n",
        "colors = [\"#FFC91A\", \"#0277BD\", \"#0277BD\", \"#0277BD\", \"#0277BD\"]\n",
        "colors_ = [\"#FF2E1F\", \"#0277BD\", \"#0277BD\", \"#0277BD\", \"#0277BD\"]\n",
        "\n",
        "sns.barplot(\n",
        "    x = \"review_average\",\n",
        "    y = \"product_category_name\",\n",
        "    data = all_review_df.head(5),\n",
        "    palette = colors,\n",
        "    ax = ax[0]\n",
        ")\n",
        "ax[0].set_xlabel(None)\n",
        "ax[0].set_ylabel(None)\n",
        "ax[0].set_title(\"Best Average Rating Product Category\", loc=\"center\", fontsize=15)\n",
        "ax[0].tick_params(axis ='y', labelsize=12)\n",
        "\n",
        "sns.barplot(\n",
        "    x = \"review_average\",\n",
        "    y = \"product_category_name\",\n",
        "    data = all_review_df.sort_values(by=\"review_average\", ascending=True).head(5),\n",
        "    palette = colors_,\n",
        "    ax = ax[1]\n",
        ")\n",
        "ax[1].set_xlabel(None)\n",
        "ax[1].set_ylabel(None)\n",
        "ax[1].invert_xaxis()\n",
        "ax[1].yaxis.set_label_position(\"right\")\n",
        "ax[1].yaxis.tick_right()\n",
        "ax[1].set_title(\"Worst Average Rating Product Category\", loc=\"center\", fontsize=15)\n",
        "ax[1].tick_params(axis ='y', labelsize=12)\n",
        "\n",
        "plt.suptitle(\"Best and Worst Average Rating Product Category\", fontsize=20)\n",
        "plt.show()"
      ]
    },
    {
      "cell_type": "markdown",
      "metadata": {},
      "source": [
        "*Diperoleh bahwa kategori produk dengan rata-rata skor review tertinggi adalah **cds_dvds_musicals** dan rata-rata skor review terendah adalah **security_and_services***."
      ]
    },
    {
      "cell_type": "markdown",
      "metadata": {},
      "source": [
        "### Pertanyaan 5 dan 6: Seberapa sering pembelian produk tiap state dalam beberapa tahun terakhir? Berapa banyak uang yang dihabiskan tiap state dalam beberapa tahun terakhir?"
      ]
    },
    {
      "cell_type": "markdown",
      "metadata": {},
      "source": [
        "### RFM Analysis"
      ]
    },
    {
      "cell_type": "markdown",
      "metadata": {},
      "source": [
        "RFM Analisis kali ini digunakan untuk menjawab pertanyaan 5 dan 6. Pada tahap ini akan dianalisis hanya bagian ***frequency*** dan ***monetary*** di tiap *state*."
      ]
    },
    {
      "cell_type": "markdown",
      "metadata": {},
      "source": [
        "* Membuat DataFrame ***rfm_df***"
      ]
    },
    {
      "cell_type": "code",
      "execution_count": null,
      "metadata": {},
      "outputs": [],
      "source": [
        "rfm_df = all_df.groupby(by=\"customer_state\", as_index=False).agg({\n",
        "    \"order_purchase_timestamp\": \"max\", # mengambil tanggal order terakhir\n",
        "    \"quantity\": \"sum\", # menghitung jumlah order\n",
        "    \"total_price\": \"sum\" # menghitung jumlah revenue yang dihasilkan\n",
        "})\n",
        "rfm_df.columns = [\"state\", \"recent_order_timestamp\", \"frequency\", \"monetary\"]\n",
        "\n",
        "# menghitung kapan terakhir pelanggan melakukan transaksi (hari)\n",
        "rfm_df[\"recent_order_timestamp\"] = rfm_df[\"recent_order_timestamp\"].dt.date\n",
        "recent_date = all_df[\"order_purchase_timestamp\"].dt.date.max()\n",
        "rfm_df[\"recency\"] = rfm_df[\"recent_order_timestamp\"].apply(lambda x: (recent_date - x).days)\n",
        "\n",
        "rfm_df.drop(\"recent_order_timestamp\", axis=1, inplace=True)\n",
        "rfm_df"
      ]
    },
    {
      "cell_type": "markdown",
      "metadata": {},
      "source": [
        "* Visualisasi data dengan **Bar Chart**"
      ]
    },
    {
      "cell_type": "code",
      "execution_count": null,
      "metadata": {},
      "outputs": [],
      "source": [
        "fig, ax = plt.subplots(nrows=1, ncols=3, figsize=(30, 15))\n",
        "colors = [\"#FFC91A\", \"#0277BD\", \"#0277BD\", \"#0277BD\", \"#0277BD\", \"#0277BD\", \"#0277BD\", \"#0277BD\", \"#0277BD\", \"#0277BD\",\n",
        "          \"#0277BD\", \"#0277BD\", \"#0277BD\", \"#0277BD\", \"#0277BD\", \"#0277BD\", \"#0277BD\", \"#0277BD\", \"#0277BD\", \"#0277BD\",\n",
        "          \"#0277BD\", \"#0277BD\", \"#0277BD\", \"#0277BD\", \"#0277BD\", \"#0277BD\", \"#0277BD\", \"#0277BD\"]\n",
        "\n",
        "sns.barplot(\n",
        "    x = \"recency\",\n",
        "    y = \"state\",\n",
        "    data = rfm_df.sort_values(\"recency\", ascending=True),\n",
        "    palette = colors,\n",
        "    ax = ax[0]\n",
        ")\n",
        "ax[0].set_xlabel(None)\n",
        "ax[0].set_ylabel(None)\n",
        "ax[0].set_title(\"By Recency\", loc=\"center\", fontsize=15)\n",
        "ax[0].tick_params(axis ='y', labelsize=14)\n",
        "\n",
        "sns.barplot(\n",
        "    x = \"frequency\",\n",
        "    y = \"state\",\n",
        "    data = rfm_df.sort_values(\"frequency\", ascending=False),\n",
        "    palette = colors,\n",
        "    ax = ax[1]\n",
        ")\n",
        "ax[1].set_xlabel(None)\n",
        "ax[1].set_ylabel(None)\n",
        "ax[1].set_title(\"By Frequency\", loc=\"center\", fontsize=15)\n",
        "ax[1].tick_params(axis ='y', labelsize=14)\n",
        "\n",
        "sns.barplot(\n",
        "    x = \"monetary\",\n",
        "    y = \"state\",\n",
        "    data = rfm_df.sort_values(\"monetary\", ascending=False),\n",
        "    palette = colors,\n",
        "    ax = ax[2]\n",
        ")\n",
        "ax[2].set_xlabel(None)\n",
        "ax[2].set_ylabel(None)\n",
        "ax[2].set_title(\"By Monetary\", loc=\"center\", fontsize=15)\n",
        "ax[2].tick_params(axis ='y', labelsize=14)\n",
        "\n",
        "plt.suptitle(\"Best State Based on RFM Parameters\", fontsize=20)\n",
        "plt.show()"
      ]
    },
    {
      "cell_type": "markdown",
      "metadata": {
        "id": "_WeHlCeX8DC2"
      },
      "source": [
        "## Conclusion"
      ]
    },
    {
      "cell_type": "markdown",
      "metadata": {
        "id": "ZTcyR48Y8DC2"
      },
      "source": [
        "- Conclusion pertanyaan 1\n",
        "\n",
        "    Pada penjualan selama satu tahun terakhir (September 2017 - Agustus 2018), *diperoleh bahwa puncak performa penjualan berada di bulan **November 2017** dengan **7.507 orderan**, dan revenue tertinggi juga berada di bulan yang sama dengan **1.154.856 BRL**. Selain itu, performa mengalami penurunan pada bulan **Desember 2017**, **Februari 2018**, **April 2018** dan **Juni 2018** serta penurunan revenue pada bulan **Desember 2017**, **Februari 2018**, **Juni 2018**, dan **Agustus 2018**.*\n",
        "\n",
        "- Conclusion pertanyaan 2\n",
        "\n",
        "    Customer tersebar di **27 negara bagian (*state*)** dan **4.119 kota**, dengan jumlah customer terbanyak berada di kota **Sao Paulo** sebanyak **15.540** customer dan negara bagian **Sao Paulo (SP)** sebanyak **41.746** customer. Selain itu, terdapat pula seller yang tersebar di **23 negara bagian (*state*)** dan **611 kota**, dengan jumlah seller terbanyak berada di kota **Sao Paulo** sebanyak **691** seller dan negara bagian **Sao Paulo (SP)** sebanyak **1.843** seller.\n",
        "\n",
        "- Conclusion pertanyaan 3\n",
        "\n",
        "    *E-commerce* telah menjual **73 kategori produk**, dengan **penjualan tertinggi** sebanyak **11.247 produk** dari kategori **bed_bath_table**. Selain itu, kategori produk dengan **penjualan terendah** adalah **security_and_services** sebanyak **2 produk**.\n",
        "\n",
        "- Conclusion pertanyaan 4\n",
        "\n",
        "    Dari semua produk yang telah terjual, terdapat **97.431 review** dengan **rata-rata rating 4,1**. Diperoleh juga kategori produk dengan **rata-rata rating tertinggi** adalah **cds_dvds_musicals** dengan rating **4,7** dan rata-rata rating terendah adalah **security_and_services** dengan rating **2,5**.\n",
        "\n",
        "* Conclusion pertanyaan 5\n",
        "\n",
        "    Dalam beberapa tahun terakhir, rata-rata pembelian produk tiap state adalah **4.172** produk. Pembelian produk didominasi oleh negara bagian **Sao Paulo (SP)** dengan pembelian **47.449** produk, lalu diikuti dengan negara bagian **Rio de Janeiro (RJ)** dan **Minas Gerais (MG)** dengan pembelian masing-masing **14.579** produk dan **13.129** produk.\n",
        "\n",
        "* Conclusion pertanyaan 6\n",
        "\n",
        "    Rata-rata uang yang dihabiskan untuk pembelian produk tiap state dalam beberapa tahun terakhir adalah **577.232 BRL**. Negara bagian dengan *total revenue* tertinggi dipegang oleh **Sao Paulo (SP)** dengan *total revenue* **5.827.544 BRL**, kemudian diikuti dengan **Rio de Janeiro (RJ)** dan **Minas Gerais (MG)** dengan *total revenue* masing-masing **2.091.770 BRL** dan **1.828.647 BRL**."
      ]
    },
    {
      "cell_type": "markdown",
      "metadata": {},
      "source": [
        "## Ekstrak data ke CSV"
      ]
    },
    {
      "cell_type": "code",
      "execution_count": null,
      "metadata": {},
      "outputs": [],
      "source": [
        "all_df.to_csv(\"all_data.csv\", index=False)"
      ]
    }
  ],
  "metadata": {
    "colab": {
      "provenance": []
    },
    "kernelspec": {
      "display_name": "Python 3",
      "language": "python",
      "name": "python3"
    },
    "language_info": {
      "codemirror_mode": {
        "name": "ipython",
        "version": 3
      },
      "file_extension": ".py",
      "mimetype": "text/x-python",
      "name": "python",
      "nbconvert_exporter": "python",
      "pygments_lexer": "ipython3",
      "version": "3.11.6"
    },
    "orig_nbformat": 4,
    "vscode": {
      "interpreter": {
        "hash": "972b3bf27e332e87b5379f2791f6ef9dfc79c71018c370b0d7423235e20fe4d7"
      }
    }
  },
  "nbformat": 4,
  "nbformat_minor": 0
}
